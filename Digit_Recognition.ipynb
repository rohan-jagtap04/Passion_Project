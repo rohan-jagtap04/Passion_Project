{
  "nbformat": 4,
  "nbformat_minor": 0,
  "metadata": {
    "colab": {
      "name": "Digit Recognition",
      "provenance": [],
      "authorship_tag": "ABX9TyP4lLvAAw4nW0pJNZEPiH6k",
      "include_colab_link": true
    },
    "kernelspec": {
      "name": "python3",
      "display_name": "Python 3"
    }
  },
  "cells": [
    {
      "cell_type": "markdown",
      "metadata": {
        "id": "view-in-github",
        "colab_type": "text"
      },
      "source": [
        "<a href=\"https://colab.research.google.com/github/rohan-jagtap04/Passion_Project/blob/master/Digit_Recognition.ipynb\" target=\"_parent\"><img src=\"https://colab.research.google.com/assets/colab-badge.svg\" alt=\"Open In Colab\"/></a>"
      ]
    },
    {
      "cell_type": "code",
      "metadata": {
        "id": "IkA42U0OqoUs",
        "colab": {
          "base_uri": "https://localhost:8080/",
          "height": 1000
        },
        "outputId": "5203830a-0b2f-45bb-800d-458e473f4c89"
      },
      "source": [
        "#from https://www.youtube.com/watch?v=Zi4i7Q0zrBs\n",
        "import cv2 as cv\n",
        "import numpy as np\n",
        "import matplotlib.pyplot as plt\n",
        "import tensorflow as tf\n",
        "from tensorflow import keras\n",
        "from keras import layers\n",
        "from tensorflow.keras.models import Sequential\n",
        "#data set w/ hand written digits\n",
        "mnist = tf.keras.datasets.mnist\n",
        "\n",
        "#split into test/train data\n",
        "(x_train,y_train),(x_test, y_test) = mnist.load_data()\n",
        "\n",
        "#scale down inputs (normalize them) either rbg (0-255) -> (0-1)\n",
        "x_train = tf.keras.utils.normalize(x_train, axis=1)\n",
        "x_test = tf.keras.utils.normalize(x_test, axis=1)\n",
        "\n",
        "#tells compiler that we're creating an ordinary feed-forward neural network\n",
        "model = tf.keras.models.Sequential()\n",
        "\n",
        "#Since our input will be 28x28 grid, were flattening it to be (28^2, 1) and specifying what our input looks like\n",
        "model.add(tf.keras.layers.Flatten(input_shape=(28,28)))\n",
        "\n",
        "#Specifying how many neurons we want to have (more neuron = more sophistication + nuances we can account for)\n",
        "model.add(tf.keras.layers.Dense(units=128, activation=tf.nn.relu))\n",
        "model.add(tf.keras.layers.Dense(units=128, activation=tf.nn.relu))\n",
        "\n",
        "#we have ten outputs (0,1,2,3,4,5,6,7,8,9)\n",
        "model.add(tf.keras.layers.Dense(units=10, activation='softmax'))\n",
        "\n",
        "model.compile(optimizer='adam', loss='sparse_categorical_crossentropy', metrics=['accuracy'])\n",
        "\n",
        "model.fit(x_train, y_train, epochs=3)\n",
        "\n",
        "accuracy, loss = model.evaluate(x_test, y_test)\n",
        "print(\"Accuracy: \" + str(accuracy))\n",
        "print(\"Loss: \" + str(loss))\n",
        "\n",
        "model.save('digits.model')\n",
        "\n",
        "for x in range(1,5):\n",
        "  img = cv.imread(f'{x}.png')[:,:,0]\n",
        "  img = np.invert(np.array([img]))\n",
        "  prediction = model.predict(img)\n",
        "  print(f'The model predicted: {np.argmax(prediction)}')\n",
        "  plt.imshow(img[0], cmap=plt.cm.binary)\n",
        "  plt.show()\n"
      ],
      "execution_count": 15,
      "outputs": [
        {
          "output_type": "stream",
          "text": [
            "Epoch 1/3\n",
            "1875/1875 [==============================] - 5s 2ms/step - loss: 0.4630 - accuracy: 0.8678\n",
            "Epoch 2/3\n",
            "1875/1875 [==============================] - 4s 2ms/step - loss: 0.1086 - accuracy: 0.9663\n",
            "Epoch 3/3\n",
            "1875/1875 [==============================] - 4s 2ms/step - loss: 0.0734 - accuracy: 0.9773\n",
            "313/313 [==============================] - 0s 1ms/step - loss: 0.1090 - accuracy: 0.9660\n",
            "Accuracy: 0.10904162377119064\n",
            "Loss: 0.9660000205039978\n",
            "INFO:tensorflow:Assets written to: digits.model/assets\n",
            "The model predicted: 2\n"
          ],
          "name": "stdout"
        },
        {
          "output_type": "display_data",
          "data": {
            "image/png": "[encoded data removed]",
            "text/plain": [
              "<Figure size 432x288 with 1 Axes>"
            ]
          },
          "metadata": {
            "tags": [],
            "needs_background": "light"
          }
        },
        {
          "output_type": "stream",
          "text": [
            "The model predicted: 3\n"
          ],
          "name": "stdout"
        },
        {
          "output_type": "display_data",
          "data": {
            "image/png": "[encoded data removed]",
            "text/plain": [
              "<Figure size 432x288 with 1 Axes>"
            ]
          },
          "metadata": {
            "tags": [],
            "needs_background": "light"
          }
        },
        {
          "output_type": "stream",
          "text": [
            "The model predicted: 3\n"
          ],
          "name": "stdout"
        },
        {
          "output_type": "display_data",
          "data": {
            "image/png": "[encoded data removed]",
            "text/plain": [
              "<Figure size 432x288 with 1 Axes>"
            ]
          },
          "metadata": {
            "tags": [],
            "needs_background": "light"
          }
        },
        {
          "output_type": "stream",
          "text": [
            "The model predicted: 3\n"
          ],
          "name": "stdout"
        },
        {
          "output_type": "display_data",
          "data": {
            "image/png": "[encoded data removed]",
            "text/plain": [
              "<Figure size 432x288 with 1 Axes>"
            ]
          },
          "metadata": {
            "tags": [],
            "needs_background": "light"
          }
        }
      ]
    }
  ]
}